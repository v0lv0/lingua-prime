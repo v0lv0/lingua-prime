{
 "cells": [
  {
   "cell_type": "code",
   "execution_count": 4,
   "id": "691dc583-d825-4f87-bb8e-aa613ec7146c",
   "metadata": {},
   "outputs": [
    {
     "name": "stderr",
     "output_type": "stream",
     "text": [
      "/ext3/miniconda3/lib/python3.11/site-packages/tqdm/auto.py:21: TqdmWarning: IProgress not found. Please update jupyter and ipywidgets. See https://ipywidgets.readthedocs.io/en/stable/user_install.html\n",
      "  from .autonotebook import tqdm as notebook_tqdm\n"
     ]
    }
   ],
   "source": [
    "import json\n",
    "import pandas as pd\n",
    "import random\n",
    "from datasets import load_dataset\n",
    "from transformers import GPT2LMHeadModel, GPT2Tokenizer, AutoModelForCausalLM, AutoTokenizer\n",
    "import torch\n",
    "import matplotlib.pyplot as plt\n",
    "import os\n",
    "from tqdm import tqdm\n",
    "from torch.utils.data import DataLoader, TensorDataset\n",
    "from torch.nn.utils.rnn import pad_sequence"
   ]
  },
  {
   "cell_type": "code",
   "execution_count": 6,
   "id": "55dc96c4-c1eb-49a3-8cd2-4a971d2b0959",
   "metadata": {},
   "outputs": [],
   "source": [
    "def load_jsonl(file_path):\n",
    "    \"\"\"Load a JSONL file into a DataFrame.\"\"\"\n",
    "    data = []\n",
    "    with open(file_path, 'r', encoding='utf-8') as file:\n",
    "        for line in file:\n",
    "            data.append(json.loads(line))\n",
    "    return pd.DataFrame(data)"
   ]
  },
  {
   "cell_type": "code",
   "execution_count": 7,
   "id": "fd85d97d-7560-4616-9160-6b7dabacf108",
   "metadata": {},
   "outputs": [],
   "source": [
    "def evaluate_priming(model, prime_tokens, good_tokens, bad_tokens, device):\n",
    "    # This function receives already tokenized and tensorized 'prime_tokens', 'good_tokens', and 'bad_tokens',\n",
    "    # all of which are expected to be on the specified 'device'.\n",
    "    \n",
    "    # Concatenate prime tokens with good and bad tokens for contextual influence\n",
    "    primed_good_tokens = torch.cat((prime_tokens, good_tokens), dim=1)\n",
    "    primed_bad_tokens = torch.cat((prime_tokens, bad_tokens), dim=1)\n",
    "\n",
    "    # Calculate log likelihood for good and bad sentences with priming\n",
    "    log_likelihood_good = calculate_log_likelihood(model, primed_good_tokens)\n",
    "    log_likelihood_bad = calculate_log_likelihood(model, primed_bad_tokens)\n",
    "\n",
    "    # Calculate log likelihood for good and bad sentences without priming (control)\n",
    "    log_likelihood_good_control = calculate_log_likelihood(model, good_tokens)\n",
    "    log_likelihood_bad_control = calculate_log_likelihood(model, bad_tokens)\n",
    "\n",
    "    # Compute the priming effect as the change in likelihood difference due to priming\n",
    "    delta_original = log_likelihood_good_control - log_likelihood_bad_control\n",
    "    delta_primed = log_likelihood_good - log_likelihood_bad\n",
    "\n",
    "    priming_effect = delta_primed - delta_original\n",
    "    return priming_effect\n",
    "\n",
    "def calculate_log_likelihood(model, tokens):\n",
    "    # Assumes that the model has a method to calculate or return the loss when provided with input and labels\n",
    "    # Here, we use the tokens as both input and labels, typical for language model training and evaluation\n",
    "    with torch.no_grad():\n",
    "        outputs = model(tokens, labels=tokens)\n",
    "        loss = outputs.loss\n",
    "        log_likelihood = -loss.item()  # Negating the loss to get log likelihood\n",
    "    return log_likelihood\n",
    "def evaluate_dataset(model, tokenizer, dataset, prime_sentence, device, batch_size=16):\n",
    "    if tokenizer.pad_token is None:\n",
    "        tokenizer.pad_token = tokenizer.eos_token\n",
    "\n",
    "    prime_tokens = tokenizer.encode(prime_sentence, return_tensors='pt').to(device)\n",
    "\n",
    "    good_tokens = [tokenizer.encode(data['sentence_good'], return_tensors='pt').squeeze(0) for _, data in dataset.iterrows()]\n",
    "    bad_tokens = [tokenizer.encode(data['sentence_bad'], return_tensors='pt').squeeze(0) for _, data in dataset.iterrows()]\n",
    "\n",
    "    good_padded = pad_sequence(good_tokens, batch_first=True, padding_value=tokenizer.pad_token_id).to(device)\n",
    "    bad_padded = pad_sequence(bad_tokens, batch_first=True, padding_value=tokenizer.pad_token_id).to(device)\n",
    "\n",
    "    data_loader = DataLoader(TensorDataset(good_padded, bad_padded), batch_size=batch_size, shuffle=False)\n",
    "\n",
    "    results = []\n",
    "    for good_batch, bad_batch in data_loader:\n",
    "        # Repeat prime_tokens to match batch size and concatenate\n",
    "        repeated_prime_tokens = prime_tokens.repeat(good_batch.size(0), 1)\n",
    "        effect = evaluate_priming(model, repeated_prime_tokens, good_batch, bad_batch, device)\n",
    "        results.append(effect)  # Append the float directly\n",
    "\n",
    "    mean_priming_effect = sum(results) / len(results)\n",
    "    return mean_priming_effect\n",
    "\n",
    "\n",
    "def main():\n",
    "    # Load pre-trained GPT-2 model and tokenizer\n",
    "    model_name = \"gpt2\"\n",
    "    tokenizer = GPT2Tokenizer.from_pretrained(model_name)\n",
    "    model = GPT2LMHeadModel.from_pretrained(model_name)\n",
    "    \n",
    "    # Check if GPU is available and set device\n",
    "    device = torch.device(\"cuda\" if torch.cuda.is_available() else \"cpu\")\n",
    "    model.to(device)  # Move model to the device\n",
    "    \n",
    "    path = \"./sorted_data/\"\n",
    "    prime_sentence = \"Let me tell you a wild story.\"\n",
    "    results = {}\n",
    "    \n",
    "    # Access each file and append the results\n",
    "    results = {}\n",
    "    target_dirs = ['sem', 'morp','synsem','syn']  # Directories of interest\n",
    "    # target_dirs = ['sem', 'morp','syn','synsem']  # Directories of interest\n",
    "    for root, dirs, files in os.walk(path):\n",
    "        # Filter directories to only include those we're interested in\n",
    "        dirs[:] = [d for d in dirs if d in target_dirs]\n",
    "        for dir in dirs:\n",
    "            current_path = os.path.join(root, dir)\n",
    "            results[dir] = []\n",
    "            print(f\"Folder {dir} begins\")\n",
    "            for _, _, files in os.walk(current_path):\n",
    "                for file in tqdm(files):\n",
    "                    if 'checkpoint' in file:\n",
    "                        continue\n",
    "                    dataset_path = os.path.join(current_path, file)\n",
    "                    dataset = load_jsonl(dataset_path)\n",
    "                    result = evaluate_dataset(model, tokenizer, dataset, prime_sentence, device)\n",
    "                    print(result)\n",
    "                    results[dir].append(result)\n",
    "    \n",
    "    # Load existing results and update them\n",
    "    if os.path.exists('results.json'):\n",
    "        with open('results.json', 'r') as f:\n",
    "            existing_results = json.load(f)\n",
    "        existing_results.update(results)\n",
    "        results = existing_results\n",
    "    \n",
    "    with open('results.json', 'w') as f:\n",
    "        json.dump(results, f)\n",
    "\n",
    "    return results"
   ]
  },
  {
   "cell_type": "code",
   "execution_count": null,
   "id": "2dd796fb-a111-4398-ac85-e459acd4ae39",
   "metadata": {},
   "outputs": [
    {
     "name": "stderr",
     "output_type": "stream",
     "text": [
      "/home/qm351/.local/lib/python3.11/site-packages/huggingface_hub/file_download.py:1132: FutureWarning: `resume_download` is deprecated and will be removed in version 1.0.0. Downloads always resume when possible. If you want to force a new download, use `force_download=True`.\n",
      "  warnings.warn(\n"
     ]
    },
    {
     "name": "stdout",
     "output_type": "stream",
     "text": [
      "Folder syn begins\n"
     ]
    },
    {
     "name": "stderr",
     "output_type": "stream",
     "text": [
      "  4%|▍         | 1/26 [00:31<13:18, 31.95s/it]"
     ]
    },
    {
     "name": "stdout",
     "output_type": "stream",
     "text": [
      "-0.034530230930873325\n"
     ]
    },
    {
     "name": "stderr",
     "output_type": "stream",
     "text": [
      "  8%|▊         | 2/26 [01:06<13:27, 33.63s/it]"
     ]
    },
    {
     "name": "stdout",
     "output_type": "stream",
     "text": [
      "-0.07305846895490374\n"
     ]
    }
   ],
   "source": [
    "if __name__ == \"__main__\":\n",
    "    main()"
   ]
  },
  {
   "cell_type": "code",
   "execution_count": null,
   "id": "9d99b6d5-898b-47d8-b210-fef0607d232b",
   "metadata": {},
   "outputs": [],
   "source": []
  },
  {
   "cell_type": "code",
   "execution_count": 2,
   "id": "255a982f-c0e2-4583-83bc-b9741c23d98f",
   "metadata": {},
   "outputs": [
    {
     "name": "stdout",
     "output_type": "stream",
     "text": [
      "F-Value: 4.097649029541424, P-Value: 0.010129250834874877\n"
     ]
    }
   ],
   "source": [
    "# Anova Test: it is significant\n",
    "with open('results.json', 'r') as f:\n",
    "    data = json.load(f)\n",
    "\n",
    "import scipy.stats as stats\n",
    "\n",
    "# Extracting the values from the dictionary for analysis\n",
    "groups = [data[key] for key in data]\n",
    "\n",
    "# Performing the ANOVA test\n",
    "f_value, p_value = stats.f_oneway(*groups)\n",
    "\n",
    "print(f\"F-Value: {f_value}, P-Value: {p_value}\")\n"
   ]
  },
  {
   "cell_type": "code",
   "execution_count": 5,
   "id": "1f98c217-0656-41c3-ac51-244656349cda",
   "metadata": {},
   "outputs": [
    {
     "data": {
      "image/png": "[encoded data removed]",
      "text/plain": [
       "<Figure size 1200x800 with 4 Axes>"
      ]
     },
     "metadata": {},
     "output_type": "display_data"
    }
   ],
   "source": [
    "# Create a figure and a set of subplots\n",
    "fig, axs = plt.subplots(2, 2, figsize=(12, 8))  # Adjust the layout as necessary\n",
    "axs = axs.flatten()  # Flatten the array of axes to make indexing easier\n",
    "\n",
    "# Plot each group\n",
    "for idx, (key, values) in enumerate(data.items()):\n",
    "    axs[idx].boxplot(values)\n",
    "    axs[idx].set_title(key)\n",
    "    axs[idx].set_ylabel('Values')\n",
    "\n",
    "plt.tight_layout()\n",
    "plt.show()\n"
   ]
  },
  {
   "cell_type": "code",
   "execution_count": null,
   "id": "5be6eac4-3d56-420a-9190-a7be408baa6c",
   "metadata": {},
   "outputs": [],
   "source": []
  }
 ],
 "metadata": {
  "kernelspec": {
   "display_name": "flash_attn_env",
   "language": "python",
   "name": "flash_attn_env"
  },
  "language_info": {
   "codemirror_mode": {
    "name": "ipython",
    "version": 3
   },
   "file_extension": ".py",
   "mimetype": "text/x-python",
   "name": "python",
   "nbconvert_exporter": "python",
   "pygments_lexer": "ipython3",
   "version": "3.11.5"
  }
 },
 "nbformat": 4,
 "nbformat_minor": 5
}
