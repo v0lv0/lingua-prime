{
 "cells": [
  {
   "cell_type": "code",
   "execution_count": 1,
   "id": "c3ab8b65-da0c-4845-b4f9-44c321284f53",
   "metadata": {},
   "outputs": [
    {
     "name": "stderr",
     "output_type": "stream",
     "text": [
      "/ext3/miniconda3/lib/python3.11/site-packages/tqdm/auto.py:21: TqdmWarning: IProgress not found. Please update jupyter and ipywidgets. See https://ipywidgets.readthedocs.io/en/stable/user_install.html\n",
      "  from .autonotebook import tqdm as notebook_tqdm\n"
     ]
    }
   ],
   "source": [
    "import json\n",
    "import matplotlib.pyplot as plt\n",
    "import numpy as np\n",
    "from transformers import GPT2LMHeadModel, GPT2Tokenizer, AutoModelForCausalLM, AutoTokenizer\n",
    "from exp1 import load_jsonl\n",
    "import torch\n",
    "import os\n",
    "from tqdm import tqdm\n",
    "from torch.utils.data import DataLoader, TensorDataset\n",
    "from torch.nn.utils.rnn import pad_sequence"
   ]
  },
  {
   "cell_type": "code",
   "execution_count": 2,
   "id": "ec9737b3-0415-4c51-84f1-bf6dede5d12d",
   "metadata": {},
   "outputs": [
    {
     "name": "stderr",
     "output_type": "stream",
     "text": [
      "/home/qm351/.local/lib/python3.11/site-packages/huggingface_hub/file_download.py:1132: FutureWarning: `resume_download` is deprecated and will be removed in version 1.0.0. Downloads always resume when possible. If you want to force a new download, use `force_download=True`.\n",
      "  warnings.warn(\n"
     ]
    }
   ],
   "source": []
  },
  {
   "cell_type": "code",
   "execution_count": 3,
   "id": "fd54a7e1-3c04-4f79-9ca4-e53e35d2f905",
   "metadata": {},
   "outputs": [],
   "source": [
    "import pandas as pd\n",
    "import torch\n",
    "import torch.nn as nn\n",
    "import torch.nn.functional as F\n",
    "from transformers import BertTokenizer, BertModel\n",
    "from tqdm import tqdm\n",
    "\n",
    "\n",
    "\n",
    "# Define the evaluation function\n",
    "def evaluate_priming_effect(model, tokenizer, row, num_labels, device):\n",
    "    model.eval()\n",
    "    classifier = nn.Linear(model.config.hidden_size, num_labels).to(device)\n",
    "    results = {}\n",
    "\n",
    "    with torch.no_grad():\n",
    "        # Extract sentences and tokens from the row\n",
    "        primer_sentences = [row['sentence_good'], row['sentence_bad']]\n",
    "        target_tokens = [row['one_prefix_word_good'], row['one_prefix_word_bad']]\n",
    "        \n",
    "        for primer in primer_sentences:\n",
    "            encoded_input = tokenizer(primer, return_tensors='pt').to(device)\n",
    "            outputs = model(**encoded_input)\n",
    "            logits = classifier(outputs.last_hidden_state)\n",
    "            logits_at_last_position = logits[0, -1, :]  # Get logits at the last position for all possible tokens\n",
    "            probs_at_last_position = F.softmax(logits_at_last_position, dim=0)\n",
    "\n",
    "            predictions = {}\n",
    "            for token in target_tokens:\n",
    "                token_ids = tokenizer.encode(token, add_special_tokens=False)\n",
    "                token_probs = probs_at_last_position[token_ids]\n",
    "                token_max_prob = token_probs.max().item() if token_probs.numel() > 1 else token_probs.item()\n",
    "                predictions[token] = token_max_prob\n",
    "\n",
    "            results[primer] = predictions\n",
    "\n",
    "    return results\n",
    "\n",
    "def main():\n",
    "    # Check for GPU availability\n",
    "    device = torch.device(\"cuda\" if torch.cuda.is_available() else \"cpu\")\n",
    "    print(f\"Using device: {device}\")\n",
    "    model_name = 'gpt2'\n",
    "    tokenizer = GPT2Tokenizer.from_pretrained(model_name)\n",
    "    model = GPT2LMHeadModel.from_pretrained(model_name)\n",
    "    # Process each row and evaluate priming effect\n",
    "    result = evaluate_priming_effect(model, tokenizer, row, num_labels, device)\n",
    "\n"
   ]
  },
  {
   "cell_type": "code",
   "execution_count": 4,
   "id": "2efedf03",
   "metadata": {},
   "outputs": [
    {
     "name": "stdout",
     "output_type": "stream",
     "text": [
      "Folder sem begins\n"
     ]
    },
    {
     "name": "stderr",
     "output_type": "stream",
     "text": [
      "100%|██████████| 9/9 [04:42<00:00, 31.34s/it]\n"
     ]
    }
   ],
   "source": [
    "# if __name__ == \"__main__\":\n",
    "#     main()"
   ]
  },
  {
   "cell_type": "code",
   "execution_count": null,
   "id": "4590a50b-49e4-497c-b4d4-3d33b4e5dce4",
   "metadata": {},
   "outputs": [],
   "source": []
  },
  {
   "cell_type": "code",
   "execution_count": null,
   "id": "b03b50dd-dcbd-4867-9160-e59a8fdc758d",
   "metadata": {},
   "outputs": [],
   "source": []
  },
  {
   "cell_type": "code",
   "execution_count": null,
   "id": "8b20a376-2e60-4019-804a-bfb8f32db512",
   "metadata": {},
   "outputs": [],
   "source": []
  }
 ],
 "metadata": {
  "kernelspec": {
   "display_name": "flash_attn_env",
   "language": "python",
   "name": "flash_attn_env"
  },
  "language_info": {
   "codemirror_mode": {
    "name": "ipython",
    "version": 3
   },
   "file_extension": ".py",
   "mimetype": "text/x-python",
   "name": "python",
   "nbconvert_exporter": "python",
   "pygments_lexer": "ipython3",
   "version": "3.11.5"
  }
 },
 "nbformat": 4,
 "nbformat_minor": 5
}
