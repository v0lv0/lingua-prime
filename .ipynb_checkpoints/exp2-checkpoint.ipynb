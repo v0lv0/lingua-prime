{
 "cells": [
  {
   "cell_type": "code",
   "execution_count": 1,
   "id": "c3ab8b65-da0c-4845-b4f9-44c321284f53",
   "metadata": {},
   "outputs": [
    {
     "name": "stderr",
     "output_type": "stream",
     "text": [
      "/ext3/miniconda3/lib/python3.11/site-packages/tqdm/auto.py:21: TqdmWarning: IProgress not found. Please update jupyter and ipywidgets. See https://ipywidgets.readthedocs.io/en/stable/user_install.html\n",
      "  from .autonotebook import tqdm as notebook_tqdm\n"
     ]
    }
   ],
   "source": [
    "import json\n",
    "import matplotlib.pyplot as plt\n",
    "import numpy as np\n",
    "from transformers import GPT2LMHeadModel, GPT2Tokenizer, AutoModelForCausalLM, AutoTokenizer\n",
    "from exp1 import load_jsonl\n",
    "import os\n",
    "from tqdm import tqdm\n",
    "from torch.utils.data import DataLoader, TensorDataset\n",
    "from torch.nn.utils.rnn import pad_sequence\n",
    "import torch\n",
    "import torch.nn.functional as F\n",
    "from torch import nn\n"
   ]
  },
  {
   "cell_type": "code",
   "execution_count": null,
   "id": "ec9737b3-0415-4c51-84f1-bf6dede5d12d",
   "metadata": {},
   "outputs": [],
   "source": []
  },
  {
   "cell_type": "code",
   "execution_count": 6,
   "id": "fd54a7e1-3c04-4f79-9ca4-e53e35d2f905",
   "metadata": {},
   "outputs": [],
   "source": [
    "\n",
    "def evaluate_priming_effect(model, tokenizer, primer, index, device, k=5):\n",
    "    model.eval()\n",
    "    with torch.no_grad():\n",
    "        # Encode the input text and send to the specified device\n",
    "        encoded_input = tokenizer(primer, return_tensors='pt').to(device)\n",
    "        outputs = model(**encoded_input)\n",
    "        logits = outputs.logits\n",
    "\n",
    "        # Check if the desired index is within the length of the sequence\n",
    "        if index < logits.size(1):\n",
    "            logits_at_index = logits[0, index, :]\n",
    "            probs_at_index = F.softmax(logits_at_index, dim=0)\n",
    "            top_probs, top_indices = torch.topk(probs_at_index, k)\n",
    "\n",
    "            predictions = {}\n",
    "            for idx, prob in zip(top_indices, top_probs):\n",
    "                token = tokenizer.decode([idx.item()])\n",
    "                predictions[token] = prob.item()\n",
    "            \n",
    "            return predictions\n",
    "        else:\n",
    "            return {\"error\": \"Index out of bounds\"}\n",
    "            \n",
    "def evaluate_priming_effect_at_index(sentence,index,k=5):\n",
    "    device = torch.device(\"cuda\" if torch.cuda.is_available() else \"cpu\")\n",
    "    print(f\"Using device: {device}\")\n",
    "    model_name = 'gpt2'\n",
    "    tokenizer = GPT2Tokenizer.from_pretrained(model_name)\n",
    "    model = GPT2LMHeadModel.from_pretrained(model_name)\n",
    "    predictions = evaluate_priming_effect(model, tokenizer, sentence, index, device, k)\n",
    "    return predictions\n",
    "    \n",
    "def main():\n",
    "    sentence = \"This is a crazy world.\"\n",
    "    index = 2     \n",
    "    predictions = evaluate_priming_effect_at_index(sentence, index,k=5)\n",
    "    print(\"Predictions:\", predictions)"
   ]
  },
  {
   "cell_type": "code",
   "execution_count": 7,
   "id": "2efedf03",
   "metadata": {},
   "outputs": [
    {
     "name": "stdout",
     "output_type": "stream",
     "text": [
      "Using device: cpu\n"
     ]
    },
    {
     "name": "stderr",
     "output_type": "stream",
     "text": [
      "/home/qm351/.local/lib/python3.11/site-packages/huggingface_hub/file_download.py:1132: FutureWarning: `resume_download` is deprecated and will be removed in version 1.0.0. Downloads always resume when possible. If you want to force a new download, use `force_download=True`.\n",
      "  warnings.warn(\n"
     ]
    },
    {
     "name": "stdout",
     "output_type": "stream",
     "text": [
      "Predictions: {' very': 0.05330051854252815, ' great': 0.042423609644174576, ' good': 0.024849338456988335, ' big': 0.013589226640760899, ' huge': 0.011689825914800167}\n"
     ]
    }
   ],
   "source": [
    "if __name__ == \"__main__\":\n",
    "    main()"
   ]
  },
  {
   "cell_type": "code",
   "execution_count": null,
   "id": "4590a50b-49e4-497c-b4d4-3d33b4e5dce4",
   "metadata": {},
   "outputs": [],
   "source": []
  },
  {
   "cell_type": "code",
   "execution_count": null,
   "id": "b03b50dd-dcbd-4867-9160-e59a8fdc758d",
   "metadata": {},
   "outputs": [],
   "source": []
  },
  {
   "cell_type": "code",
   "execution_count": null,
   "id": "8b20a376-2e60-4019-804a-bfb8f32db512",
   "metadata": {},
   "outputs": [],
   "source": []
  }
 ],
 "metadata": {
  "kernelspec": {
   "display_name": "flash_attn_env",
   "language": "python",
   "name": "flash_attn_env"
  },
  "language_info": {
   "codemirror_mode": {
    "name": "ipython",
    "version": 3
   },
   "file_extension": ".py",
   "mimetype": "text/x-python",
   "name": "python",
   "nbconvert_exporter": "python",
   "pygments_lexer": "ipython3",
   "version": "3.11.5"
  }
 },
 "nbformat": 4,
 "nbformat_minor": 5
}
