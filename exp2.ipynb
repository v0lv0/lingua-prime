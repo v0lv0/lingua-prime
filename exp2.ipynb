{
 "cells": [
  {
   "cell_type": "code",
   "execution_count": 1,
   "id": "c3ab8b65-da0c-4845-b4f9-44c321284f53",
   "metadata": {},
   "outputs": [
    {
     "name": "stderr",
     "output_type": "stream",
     "text": [
      "c:\\Users\\jindd\\anaconda3\\Lib\\site-packages\\transformers\\utils\\generic.py:260: UserWarning: torch.utils._pytree._register_pytree_node is deprecated. Please use torch.utils._pytree.register_pytree_node instead.\n",
      "  torch.utils._pytree._register_pytree_node(\n",
      "c:\\Users\\jindd\\anaconda3\\Lib\\site-packages\\transformers\\utils\\generic.py:260: UserWarning: torch.utils._pytree._register_pytree_node is deprecated. Please use torch.utils._pytree.register_pytree_node instead.\n",
      "  torch.utils._pytree._register_pytree_node(\n"
     ]
    }
   ],
   "source": [
    "import json\n",
    "import matplotlib.pyplot as plt\n",
    "import numpy as np\n",
    "from transformers import GPT2LMHeadModel, GPT2Tokenizer, AutoModelForCausalLM, AutoTokenizer\n",
    "from exp1 import load_jsonl\n",
    "import os\n",
    "from tqdm import tqdm\n",
    "from torch.utils.data import DataLoader, TensorDataset\n",
    "from torch.nn.utils.rnn import pad_sequence\n",
    "import torch\n",
    "import torch.nn.functional as F\n",
    "from torch import nn\n"
   ]
  },
  {
   "cell_type": "code",
   "execution_count": 4,
   "id": "fd54a7e1-3c04-4f79-9ca4-e53e35d2f905",
   "metadata": {},
   "outputs": [],
   "source": [
    "def evaluate_priming_effect(model, tokenizer, primer, index, device, k=5):\n",
    "    model.eval()\n",
    "    with torch.no_grad():\n",
    "        # Encode the input text and send to the specified device\n",
    "        encoded_input = tokenizer(primer, return_tensors='pt').to(device)\n",
    "        outputs = model(**encoded_input)\n",
    "        logits = outputs.logits\n",
    "\n",
    "        # Check if the desired index is within the length of the sequence\n",
    "        if index < logits.size(1):\n",
    "            logits_at_index = logits[0, index, :]\n",
    "            probs_at_index = F.softmax(logits_at_index, dim=0)\n",
    "            top_probs, top_indices = torch.topk(probs_at_index, k)\n",
    "\n",
    "            predictions = {}\n",
    "            for idx, prob in zip(top_indices, top_probs):\n",
    "                token = tokenizer.decode([idx.item()])\n",
    "                predictions[token] = prob.item()\n",
    "            \n",
    "            return predictions\n",
    "        else:\n",
    "            return {\"error\": \"Index out of bounds\"}\n",
    "            \n",
    "def evaluate_priming_effect_at_index(sentence,index,k=5):\n",
    "    device = torch.device(\"cuda\" if torch.cuda.is_available() else \"cpu\")\n",
    "    print(f\"Using device: {device}\")\n",
    "    model_name = 'gpt2'\n",
    "    tokenizer = GPT2Tokenizer.from_pretrained(model_name)\n",
    "    model = GPT2LMHeadModel.from_pretrained(model_name)\n",
    "    model.to( device )\n",
    "    predictions = evaluate_priming_effect(model, tokenizer, sentence, index, device, k)\n",
    "    return predictions\n",
    "    "
   ]
  },
  {
   "cell_type": "code",
   "execution_count": 32,
   "id": "7297af71",
   "metadata": {},
   "outputs": [
    {
     "name": "stdout",
     "output_type": "stream",
     "text": [
      "4\n",
      "Using device: cuda\n"
     ]
    }
   ],
   "source": [
    "\n",
    "set_of_sentences = {\n",
    "    \"Teresa is attacked by some _ \"\n",
    "}\n",
    "\n",
    "for sentence in set_of_sentences:\n",
    "    # Evaluate the priming effect and get the predictions\n",
    "    index = sentence.split().index(\"_\")-1\n",
    "    print( index)\n",
    "    predictions = evaluate_priming_effect_at_index(sentence, index, 100)\n",
    "    # Create a new file with a unique name based on the sentence\n",
    "    filename = f\"result_{sentence.replace(' ', '_')}.txt\"\n",
    "    \n",
    "    # Write the predictions to the file\n",
    "    with open(filename, 'w') as file:\n",
    "        for token, prob in predictions.items():\n",
    "            file.write(f\"{token}: {prob}\\n\")\n",
    "\n",
    "# evaluate_priming_effect_at_index( \"The cat sat on the mat\", 4, 200)\n"
   ]
  },
  {
   "cell_type": "code",
   "execution_count": null,
   "id": "2efedf03",
   "metadata": {},
   "outputs": [],
   "source": [
    "# if __name__ == \"__main__\":\n",
    "#     sentence = \"This is a crazy world.\"\n",
    "#     index = 2     \n",
    "#     predictions = evaluate_priming_effect_at_index(sentence, index,k=5)\n",
    "#     print(\"Predictions:\", predictions)"
   ]
  },
  {
   "cell_type": "code",
   "execution_count": null,
   "id": "4590a50b-49e4-497c-b4d4-3d33b4e5dce4",
   "metadata": {},
   "outputs": [],
   "source": []
  },
  {
   "cell_type": "code",
   "execution_count": null,
   "id": "b03b50dd-dcbd-4867-9160-e59a8fdc758d",
   "metadata": {},
   "outputs": [],
   "source": []
  },
  {
   "cell_type": "code",
   "execution_count": null,
   "id": "8b20a376-2e60-4019-804a-bfb8f32db512",
   "metadata": {},
   "outputs": [],
   "source": []
  }
 ],
 "metadata": {
  "kernelspec": {
   "display_name": "base",
   "language": "python",
   "name": "python3"
  },
  "language_info": {
   "codemirror_mode": {
    "name": "ipython",
    "version": 3
   },
   "file_extension": ".py",
   "mimetype": "text/x-python",
   "name": "python",
   "nbconvert_exporter": "python",
   "pygments_lexer": "ipython3",
   "version": "3.11.5"
  }
 },
 "nbformat": 4,
 "nbformat_minor": 5
}
