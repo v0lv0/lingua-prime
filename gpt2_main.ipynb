{
 "cells": [
  {
   "cell_type": "code",
   "execution_count": 6,
   "id": "096b5173-0484-4c25-b850-aaad00823b12",
   "metadata": {},
   "outputs": [
    {
     "name": "stdout",
     "output_type": "stream",
     "text": [
      "Defaulting to user installation because normal site-packages is not writeable\n",
      "Collecting minicons\n",
      "  Downloading minicons-0.2.44-py3-none-any.whl.metadata (8.4 kB)\n",
      "Collecting accelerate<0.26.0,>=0.25.0 (from minicons)\n",
      "  Downloading accelerate-0.25.0-py3-none-any.whl.metadata (18 kB)\n",
      "Collecting openai<0.29.0,>=0.28.0 (from minicons)\n",
      "  Downloading openai-0.28.1-py3-none-any.whl.metadata (11 kB)\n",
      "Collecting pandas<2.0.0,>=1.3.5 (from minicons)\n",
      "  Downloading pandas-1.5.3-cp311-cp311-manylinux_2_17_x86_64.manylinux2014_x86_64.whl.metadata (11 kB)\n",
      "Collecting pillow<11.0.0,>=10.2.0 (from minicons)\n",
      "  Downloading pillow-10.3.0-cp311-cp311-manylinux_2_28_x86_64.whl.metadata (9.2 kB)\n",
      "Collecting tenacity<9.0.0,>=8.2.3 (from minicons)\n",
      "  Downloading tenacity-8.2.3-py3-none-any.whl.metadata (1.0 kB)\n",
      "Requirement already satisfied: torch<3.0.0,>=2.0.0 in /ext3/miniconda3/lib/python3.11/site-packages (from minicons) (2.1.1)\n",
      "Requirement already satisfied: transformers<5.0.0,>=4.30.0 in /ext3/miniconda3/lib/python3.11/site-packages (from minicons) (4.35.2)\n",
      "Requirement already satisfied: urllib3<2.0.0,>=1.26.7 in /ext3/miniconda3/lib/python3.11/site-packages (from minicons) (1.26.18)\n",
      "Requirement already satisfied: numpy>=1.17 in /ext3/miniconda3/lib/python3.11/site-packages (from accelerate<0.26.0,>=0.25.0->minicons) (1.26.2)\n",
      "Requirement already satisfied: packaging>=20.0 in /ext3/miniconda3/lib/python3.11/site-packages (from accelerate<0.26.0,>=0.25.0->minicons) (23.1)\n",
      "Requirement already satisfied: psutil in /ext3/miniconda3/lib/python3.11/site-packages (from accelerate<0.26.0,>=0.25.0->minicons) (5.9.0)\n",
      "Requirement already satisfied: pyyaml in /ext3/miniconda3/lib/python3.11/site-packages (from accelerate<0.26.0,>=0.25.0->minicons) (6.0.1)\n",
      "Requirement already satisfied: huggingface-hub in /ext3/miniconda3/lib/python3.11/site-packages (from accelerate<0.26.0,>=0.25.0->minicons) (0.19.4)\n",
      "Requirement already satisfied: safetensors>=0.3.1 in /ext3/miniconda3/lib/python3.11/site-packages (from accelerate<0.26.0,>=0.25.0->minicons) (0.4.1)\n",
      "Requirement already satisfied: requests>=2.20 in /ext3/miniconda3/lib/python3.11/site-packages (from openai<0.29.0,>=0.28.0->minicons) (2.31.0)\n",
      "Requirement already satisfied: tqdm in /ext3/miniconda3/lib/python3.11/site-packages (from openai<0.29.0,>=0.28.0->minicons) (4.65.0)\n",
      "Requirement already satisfied: aiohttp in /home/qm351/.local/lib/python3.11/site-packages (from openai<0.29.0,>=0.28.0->minicons) (3.9.3)\n",
      "Requirement already satisfied: python-dateutil>=2.8.1 in /ext3/miniconda3/lib/python3.11/site-packages (from pandas<2.0.0,>=1.3.5->minicons) (2.8.2)\n",
      "Requirement already satisfied: pytz>=2020.1 in /ext3/miniconda3/lib/python3.11/site-packages (from pandas<2.0.0,>=1.3.5->minicons) (2023.3.post1)\n",
      "Requirement already satisfied: filelock in /ext3/miniconda3/lib/python3.11/site-packages (from torch<3.0.0,>=2.0.0->minicons) (3.13.1)\n",
      "Requirement already satisfied: typing-extensions in /ext3/miniconda3/lib/python3.11/site-packages (from torch<3.0.0,>=2.0.0->minicons) (4.9.0)\n",
      "Requirement already satisfied: sympy in /ext3/miniconda3/lib/python3.11/site-packages (from torch<3.0.0,>=2.0.0->minicons) (1.12)\n",
      "Requirement already satisfied: networkx in /ext3/miniconda3/lib/python3.11/site-packages (from torch<3.0.0,>=2.0.0->minicons) (3.2.1)\n",
      "Requirement already satisfied: jinja2 in /ext3/miniconda3/lib/python3.11/site-packages (from torch<3.0.0,>=2.0.0->minicons) (3.1.2)\n",
      "Requirement already satisfied: fsspec in /ext3/miniconda3/lib/python3.11/site-packages (from torch<3.0.0,>=2.0.0->minicons) (2023.12.1)\n",
      "Requirement already satisfied: nvidia-cuda-nvrtc-cu12==12.1.105 in /ext3/miniconda3/lib/python3.11/site-packages (from torch<3.0.0,>=2.0.0->minicons) (12.1.105)\n",
      "Requirement already satisfied: nvidia-cuda-runtime-cu12==12.1.105 in /ext3/miniconda3/lib/python3.11/site-packages (from torch<3.0.0,>=2.0.0->minicons) (12.1.105)\n",
      "Requirement already satisfied: nvidia-cuda-cupti-cu12==12.1.105 in /ext3/miniconda3/lib/python3.11/site-packages (from torch<3.0.0,>=2.0.0->minicons) (12.1.105)\n",
      "Requirement already satisfied: nvidia-cudnn-cu12==8.9.2.26 in /ext3/miniconda3/lib/python3.11/site-packages (from torch<3.0.0,>=2.0.0->minicons) (8.9.2.26)\n",
      "Requirement already satisfied: nvidia-cublas-cu12==12.1.3.1 in /ext3/miniconda3/lib/python3.11/site-packages (from torch<3.0.0,>=2.0.0->minicons) (12.1.3.1)\n",
      "Requirement already satisfied: nvidia-cufft-cu12==11.0.2.54 in /ext3/miniconda3/lib/python3.11/site-packages (from torch<3.0.0,>=2.0.0->minicons) (11.0.2.54)\n",
      "Requirement already satisfied: nvidia-curand-cu12==10.3.2.106 in /ext3/miniconda3/lib/python3.11/site-packages (from torch<3.0.0,>=2.0.0->minicons) (10.3.2.106)\n",
      "Requirement already satisfied: nvidia-cusolver-cu12==11.4.5.107 in /ext3/miniconda3/lib/python3.11/site-packages (from torch<3.0.0,>=2.0.0->minicons) (11.4.5.107)\n",
      "Requirement already satisfied: nvidia-cusparse-cu12==12.1.0.106 in /ext3/miniconda3/lib/python3.11/site-packages (from torch<3.0.0,>=2.0.0->minicons) (12.1.0.106)\n",
      "Requirement already satisfied: nvidia-nccl-cu12==2.18.1 in /ext3/miniconda3/lib/python3.11/site-packages (from torch<3.0.0,>=2.0.0->minicons) (2.18.1)\n",
      "Requirement already satisfied: nvidia-nvtx-cu12==12.1.105 in /ext3/miniconda3/lib/python3.11/site-packages (from torch<3.0.0,>=2.0.0->minicons) (12.1.105)\n",
      "Requirement already satisfied: triton==2.1.0 in /ext3/miniconda3/lib/python3.11/site-packages (from torch<3.0.0,>=2.0.0->minicons) (2.1.0)\n",
      "Requirement already satisfied: nvidia-nvjitlink-cu12 in /ext3/miniconda3/lib/python3.11/site-packages (from nvidia-cusolver-cu12==11.4.5.107->torch<3.0.0,>=2.0.0->minicons) (12.3.101)\n",
      "Requirement already satisfied: regex!=2019.12.17 in /ext3/miniconda3/lib/python3.11/site-packages (from transformers<5.0.0,>=4.30.0->minicons) (2023.10.3)\n",
      "Requirement already satisfied: tokenizers<0.19,>=0.14 in /ext3/miniconda3/lib/python3.11/site-packages (from transformers<5.0.0,>=4.30.0->minicons) (0.15.0)\n",
      "Requirement already satisfied: six>=1.5 in /ext3/miniconda3/lib/python3.11/site-packages (from python-dateutil>=2.8.1->pandas<2.0.0,>=1.3.5->minicons) (1.16.0)\n",
      "Requirement already satisfied: charset-normalizer<4,>=2 in /ext3/miniconda3/lib/python3.11/site-packages (from requests>=2.20->openai<0.29.0,>=0.28.0->minicons) (2.0.4)\n",
      "Requirement already satisfied: idna<4,>=2.5 in /ext3/miniconda3/lib/python3.11/site-packages (from requests>=2.20->openai<0.29.0,>=0.28.0->minicons) (3.4)\n",
      "Requirement already satisfied: certifi>=2017.4.17 in /ext3/miniconda3/lib/python3.11/site-packages (from requests>=2.20->openai<0.29.0,>=0.28.0->minicons) (2023.11.17)\n",
      "Requirement already satisfied: aiosignal>=1.1.2 in /home/qm351/.local/lib/python3.11/site-packages (from aiohttp->openai<0.29.0,>=0.28.0->minicons) (1.3.1)\n",
      "Requirement already satisfied: attrs>=17.3.0 in /home/qm351/.local/lib/python3.11/site-packages (from aiohttp->openai<0.29.0,>=0.28.0->minicons) (23.2.0)\n",
      "Requirement already satisfied: frozenlist>=1.1.1 in /home/qm351/.local/lib/python3.11/site-packages (from aiohttp->openai<0.29.0,>=0.28.0->minicons) (1.4.1)\n",
      "Requirement already satisfied: multidict<7.0,>=4.5 in /home/qm351/.local/lib/python3.11/site-packages (from aiohttp->openai<0.29.0,>=0.28.0->minicons) (6.0.5)\n",
      "Requirement already satisfied: yarl<2.0,>=1.0 in /home/qm351/.local/lib/python3.11/site-packages (from aiohttp->openai<0.29.0,>=0.28.0->minicons) (1.9.4)\n",
      "Requirement already satisfied: MarkupSafe>=2.0 in /ext3/miniconda3/lib/python3.11/site-packages (from jinja2->torch<3.0.0,>=2.0.0->minicons) (2.1.3)\n",
      "Requirement already satisfied: mpmath>=0.19 in /ext3/miniconda3/lib/python3.11/site-packages (from sympy->torch<3.0.0,>=2.0.0->minicons) (1.3.0)\n",
      "Downloading minicons-0.2.44-py3-none-any.whl (32 kB)\n",
      "Downloading accelerate-0.25.0-py3-none-any.whl (265 kB)\n",
      "\u001b[2K   \u001b[90m━━━━━━━━━━━━━━━━━━━━━━━━━━━━━━━━━━━━━━━━\u001b[0m \u001b[32m265.7/265.7 kB\u001b[0m \u001b[31m6.8 MB/s\u001b[0m eta \u001b[36m0:00:00\u001b[0mta \u001b[36m0:00:01\u001b[0m\n",
      "\u001b[?25hDownloading openai-0.28.1-py3-none-any.whl (76 kB)\n",
      "\u001b[2K   \u001b[90m━━━━━━━━━━━━━━━━━━━━━━━━━━━━━━━━━━━━━━━━\u001b[0m \u001b[32m77.0/77.0 kB\u001b[0m \u001b[31m8.0 MB/s\u001b[0m eta \u001b[36m0:00:00\u001b[0m\n",
      "\u001b[?25hDownloading pandas-1.5.3-cp311-cp311-manylinux_2_17_x86_64.manylinux2014_x86_64.whl (12.0 MB)\n",
      "\u001b[2K   \u001b[90m━━━━━━━━━━━━━━━━━━━━━━━━━━━━━━━━━━━━━━━━\u001b[0m \u001b[32m12.0/12.0 MB\u001b[0m \u001b[31m41.8 MB/s\u001b[0m eta \u001b[36m0:00:00\u001b[0m:00:01\u001b[0m0:01\u001b[0m\n",
      "\u001b[?25hDownloading pillow-10.3.0-cp311-cp311-manylinux_2_28_x86_64.whl (4.5 MB)\n",
      "\u001b[2K   \u001b[90m━━━━━━━━━━━━━━━━━━━━━━━━━━━━━━━━━━━━━━━━\u001b[0m \u001b[32m4.5/4.5 MB\u001b[0m \u001b[31m21.2 MB/s\u001b[0m eta \u001b[36m0:00:00\u001b[0m:00:01\u001b[0m\n",
      "\u001b[?25hDownloading tenacity-8.2.3-py3-none-any.whl (24 kB)\n",
      "Installing collected packages: tenacity, pillow, pandas, openai, accelerate, minicons\n",
      "\u001b[33m  WARNING: The script openai is installed in '/home/qm351/.local/bin' which is not on PATH.\n",
      "  Consider adding this directory to PATH or, if you prefer to suppress this warning, use --no-warn-script-location.\u001b[0m\u001b[33m\n",
      "\u001b[0m\u001b[33m  WARNING: The scripts accelerate, accelerate-config, accelerate-estimate-memory and accelerate-launch are installed in '/home/qm351/.local/bin' which is not on PATH.\n",
      "  Consider adding this directory to PATH or, if you prefer to suppress this warning, use --no-warn-script-location.\u001b[0m\u001b[33m\n",
      "\u001b[0m\u001b[33m  WARNING: The script minicons is installed in '/home/qm351/.local/bin' which is not on PATH.\n",
      "  Consider adding this directory to PATH or, if you prefer to suppress this warning, use --no-warn-script-location.\u001b[0m\u001b[33m\n",
      "\u001b[0mSuccessfully installed accelerate-0.25.0 minicons-0.2.44 openai-0.28.1 pandas-1.5.3 pillow-10.3.0 tenacity-8.2.3\n"
     ]
    }
   ],
   "source": [
    "# !pip install minicons"
   ]
  },
  {
   "cell_type": "code",
   "execution_count": 7,
   "id": "c3ab8b65-da0c-4845-b4f9-44c321284f53",
   "metadata": {},
   "outputs": [
    {
     "name": "stderr",
     "output_type": "stream",
     "text": [
      "/ext3/miniconda3/lib/python3.11/site-packages/tqdm/auto.py:21: TqdmWarning: IProgress not found. Please update jupyter and ipywidgets. See https://ipywidgets.readthedocs.io/en/stable/user_install.html\n",
      "  from .autonotebook import tqdm as notebook_tqdm\n"
     ]
    },
    {
     "ename": "ModuleNotFoundError",
     "evalue": "No module named 'matplotlib'",
     "output_type": "error",
     "traceback": [
      "\u001b[0;31m---------------------------------------------------------------------------\u001b[0m",
      "\u001b[0;31mModuleNotFoundError\u001b[0m                       Traceback (most recent call last)",
      "Cell \u001b[0;32mIn[7], line 4\u001b[0m\n\u001b[1;32m      2\u001b[0m \u001b[38;5;28;01mimport\u001b[39;00m \u001b[38;5;21;01mjson\u001b[39;00m\n\u001b[1;32m      3\u001b[0m \u001b[38;5;28;01mfrom\u001b[39;00m \u001b[38;5;21;01mminicons\u001b[39;00m \u001b[38;5;28;01mimport\u001b[39;00m scorer\n\u001b[0;32m----> 4\u001b[0m \u001b[38;5;28;01mimport\u001b[39;00m \u001b[38;5;21;01mmatplotlib\u001b[39;00m\u001b[38;5;21;01m.\u001b[39;00m\u001b[38;5;21;01mpyplot\u001b[39;00m \u001b[38;5;28;01mas\u001b[39;00m \u001b[38;5;21;01mplt\u001b[39;00m\n\u001b[1;32m      5\u001b[0m \u001b[38;5;28;01mimport\u001b[39;00m \u001b[38;5;21;01mnumpy\u001b[39;00m \u001b[38;5;28;01mas\u001b[39;00m \u001b[38;5;21;01mnp\u001b[39;00m\n\u001b[1;32m      6\u001b[0m \u001b[38;5;28;01mfrom\u001b[39;00m \u001b[38;5;21;01mtorch\u001b[39;00m\u001b[38;5;21;01m.\u001b[39;00m\u001b[38;5;21;01mutils\u001b[39;00m\u001b[38;5;21;01m.\u001b[39;00m\u001b[38;5;21;01mdata\u001b[39;00m \u001b[38;5;28;01mimport\u001b[39;00m DataLoader\n",
      "\u001b[0;31mModuleNotFoundError\u001b[0m: No module named 'matplotlib'"
     ]
    }
   ],
   "source": [
    "import gdown\n",
    "import json\n",
    "from minicons import scorer\n",
    "import matplotlib.pyplot as plt\n",
    "import numpy as np\n",
    "from torch.utils.data import DataLoader\n",
    "from transformers import AutoModelForCausalLM, AutoTokenizer"
   ]
  },
  {
   "cell_type": "code",
   "execution_count": 8,
   "id": "5130dfca-801f-4a09-8a54-7208b4940606",
   "metadata": {},
   "outputs": [
    {
     "name": "stderr",
     "output_type": "stream",
     "text": [
      "Downloading...\n",
      "From: https://drive.google.com/uc?id=1ddU-q9hYqKQejPoR6DKn5aVm8SUh1a1H\n",
      "To: /scratch/qm351/nlu_final_data/distractor_agreement_relational_noun.jsonl\n",
      "100%|██████████| 526k/526k [00:00<00:00, 8.88MB/s]\n",
      "Downloading...\n",
      "From: https://drive.google.com/uc?id=1RElijgxi8E2w6A_7sa5kyzD_EL8BunaG\n",
      "To: /scratch/qm351/nlu_final_data/animate_subject_passive.jsonl\n",
      "100%|██████████| 462k/462k [00:00<00:00, 24.2MB/s]\n"
     ]
    },
    {
     "data": {
      "text/plain": [
       "'/scratch/qm351/nlu_final_data/animate_subject_passive.jsonl'"
      ]
     },
     "execution_count": 8,
     "metadata": {},
     "output_type": "execute_result"
    }
   ],
   "source": [
    "agr_name = \"/scratch/qm351/nlu_final_data/distractor_agreement_relational_noun.jsonl\"\n",
    "agr_url = \"https://drive.google.com/file/d/1ddU-q9hYqKQejPoR6DKn5aVm8SUh1a1H/view?usp=sharing\"\n",
    "gdown.download(url=agr_url, output=agr_name, fuzzy=True)\n",
    "\n",
    "anim_name = \"/scratch/qm351/nlu_final_data/animate_subject_passive.jsonl\"\n",
    "anim_url = \"https://drive.google.com/file/d/1RElijgxi8E2w6A_7sa5kyzD_EL8BunaG/view?usp=sharing\"\n",
    "gdown.download(url=anim_url, output=anim_name, fuzzy=True)"
   ]
  },
  {
   "cell_type": "code",
   "execution_count": null,
   "id": "ec9737b3-0415-4c51-84f1-bf6dede5d12d",
   "metadata": {},
   "outputs": [],
   "source": []
  }
 ],
 "metadata": {
  "kernelspec": {
   "display_name": "flash_attn_env",
   "language": "python",
   "name": "flash_attn_env"
  },
  "language_info": {
   "codemirror_mode": {
    "name": "ipython",
    "version": 3
   },
   "file_extension": ".py",
   "mimetype": "text/x-python",
   "name": "python",
   "nbconvert_exporter": "python",
   "pygments_lexer": "ipython3",
   "version": "3.11.5"
  }
 },
 "nbformat": 4,
 "nbformat_minor": 5
}
